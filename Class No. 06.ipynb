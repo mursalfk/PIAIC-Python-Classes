{
 "cells": [
  {
   "cell_type": "code",
   "execution_count": 9,
   "metadata": {},
   "outputs": [
    {
     "name": "stdout",
     "output_type": "stream",
     "text": [
      "2.0\n",
      "You cannot divide any number by zero\n",
      "End\n"
     ]
    }
   ],
   "source": [
    "a=10\n",
    "b=0\n",
    "try:\n",
    "    print(a/5)\n",
    "    print(a/0)\n",
    "except ZeroDivisionError:\n",
    "    print(\"You cannot divide any number by zero\")\n",
    "print(\"End\")"
   ]
  },
  {
   "cell_type": "code",
   "execution_count": 10,
   "metadata": {},
   "outputs": [
    {
     "name": "stdout",
     "output_type": "stream",
     "text": [
      "5.0\n"
     ]
    }
   ],
   "source": [
    "a=15\n",
    "b=3\n",
    "try:\n",
    "    c=a/b\n",
    "except ZeroDivisionError:\n",
    "    print(\"Zero wala error\")\n",
    "else:\n",
    "    print(c)"
   ]
  },
  {
   "cell_type": "code",
   "execution_count": 12,
   "metadata": {},
   "outputs": [
    {
     "name": "stdout",
     "output_type": "stream",
     "text": [
      "Index Error\n"
     ]
    }
   ],
   "source": [
    "a=5\n",
    "b=2\n",
    "d=[]\n",
    "try:\n",
    "    c=a/b\n",
    "    e=d[5]\n",
    "    print(e)\n",
    "except ZeroDivisionError:\n",
    "    print(\"Error\")\n",
    "except IndexError:\n",
    "    print(\"Index Error\")\n",
    "else:\n",
    "    print(c)\n"
   ]
  },
  {
   "cell_type": "code",
   "execution_count": 13,
   "metadata": {},
   "outputs": [
    {
     "name": "stdout",
     "output_type": "stream",
     "text": [
      "Error\n"
     ]
    }
   ],
   "source": [
    "a=5\n",
    "b=2\n",
    "d=[]\n",
    "try:\n",
    "    c=a/b\n",
    "    e=d[5]\n",
    "    print(e)\n",
    "except (ZeroDivisionError, IndexError):\n",
    "    print(\"Error\")\n",
    "else:\n",
    "    print(c)\n"
   ]
  },
  {
   "cell_type": "code",
   "execution_count": 14,
   "metadata": {},
   "outputs": [
    {
     "name": "stdout",
     "output_type": "stream",
     "text": [
      "Error\n"
     ]
    }
   ],
   "source": [
    "a=5\n",
    "b=2\n",
    "d=[]\n",
    "try:\n",
    "    c=a/b\n",
    "    e=d[5]\n",
    "    print(e)\n",
    "except:\n",
    "    print(\"Error\")\n",
    "else:\n",
    "    print(c)\n"
   ]
  },
  {
   "cell_type": "code",
   "execution_count": 19,
   "metadata": {},
   "outputs": [
    {
     "name": "stdout",
     "output_type": "stream",
     "text": [
      "Error == [Errno 2] No such file or directory: 'abc.txt'\n"
     ]
    }
   ],
   "source": [
    "a=5\n",
    "b=2\n",
    "d=[]\n",
    "try:\n",
    "    c=a/b\n",
    "    #e=d[5]\n",
    "    #print(e)\n",
    "    open(\"abc.txt\")\n",
    "except Exception as e:\n",
    "    print(\"Error == \"+str(e))\n",
    "else:\n",
    "    print(c)\n"
   ]
  },
  {
   "cell_type": "code",
   "execution_count": null,
   "metadata": {},
   "outputs": [],
   "source": []
  }
 ],
 "metadata": {
  "kernelspec": {
   "display_name": "Python 3",
   "language": "python",
   "name": "python3"
  },
  "language_info": {
   "codemirror_mode": {
    "name": "ipython",
    "version": 3
   },
   "file_extension": ".py",
   "mimetype": "text/x-python",
   "name": "python",
   "nbconvert_exporter": "python",
   "pygments_lexer": "ipython3",
   "version": "3.7.1"
  }
 },
 "nbformat": 4,
 "nbformat_minor": 2
}
