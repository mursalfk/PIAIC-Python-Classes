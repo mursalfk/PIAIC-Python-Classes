{
 "cells": [
  {
   "cell_type": "code",
   "execution_count": 1,
   "metadata": {},
   "outputs": [],
   "source": [
    "name = [\"Ali\", \"Ahmed\", \"Akber\", \"John\",\"Mansoor\"]"
   ]
  },
  {
   "cell_type": "code",
   "execution_count": 2,
   "metadata": {},
   "outputs": [],
   "source": [
    "fname = [\"Ahmed\", \"Ali\", \"Azam\", \"Smith\", \"Saqi\"]"
   ]
  },
  {
   "cell_type": "code",
   "execution_count": 62,
   "metadata": {},
   "outputs": [],
   "source": [
    "name = [\"Ali\", \"Ahmed\", \"Akber\", \"John\",\"Mansoor\"]\n",
    "fname = [\"Ahmed\", \"Ali\", \"Azam\", \"Smith\", \"Saqi\"]\n",
    "fullname = []\n"
   ]
  },
  {
   "cell_type": "code",
   "execution_count": 61,
   "metadata": {},
   "outputs": [
    {
     "name": "stdout",
     "output_type": "stream",
     "text": [
      "A = 1\n",
      "B = 2\n",
      "abb\n",
      "Hello\n",
      "a\n",
      "bb\n"
     ]
    }
   ],
   "source": [
    "num1 = int(input(\"A = \"))\n",
    "num2 = int(input(\"B = \"))\n",
    "a=[\"a\"  for i in range(num1)]\n",
    "b=[\"b\" for j in range(num2)]\n",
    "ajoined = ''.join(a)\n",
    "bjoined = ''.join(b)\n",
    "def task1(A, B):\n",
    "    if num1-num2 <= 3:\n",
    "        result = ajoined + bjoined\n",
    "        print(result)\n",
    "        print(\"Hello\")\n",
    "    else:\n",
    "        print(\"Hi\")\n",
    "task1(a, b)\n",
    "print(ajoined)\n",
    "print(bjoined)\n"
   ]
  },
  {
   "cell_type": "code",
   "execution_count": 59,
   "metadata": {},
   "outputs": [
    {
     "data": {
      "text/plain": [
       "'aa'"
      ]
     },
     "execution_count": 59,
     "metadata": {},
     "output_type": "execute_result"
    }
   ],
   "source": [
    "ajoined"
   ]
  },
  {
   "cell_type": "code",
   "execution_count": 11,
   "metadata": {},
   "outputs": [
    {
     "name": "stdout",
     "output_type": "stream",
     "text": [
      "aabbbbbbbbbb\n"
     ]
    }
   ],
   "source": [
    "def solutionAB(A, B):\n",
    "    if abs(A-B)>3:\n",
    "        return \"Not Possible\"\n",
    "    else:\n",
    "        ab = {'a' : A, 'b' : B}\n",
    "        if(A >= B):\n",
    "            char = 'a'\n",
    "        else:\n",
    "            char = 'b'\n",
    "        count = ''\n",
    "        length = A + B\n",
    "        for _ in range(length):\n",
    "            count += char\n",
    "            ab[char] -= 1\n",
    "            if len(count)>1:\n",
    "                if(count[-1] == char and count[-2] == char) or (ab[char]):\n",
    "                    if char == 'a':\n",
    "                        char = 'b'\n",
    "                    else:\n",
    "                        char = 'b'\n",
    "        return count\n",
    "    \n",
    "print(solutionAB(,5))"
   ]
  },
  {
   "cell_type": "code",
   "execution_count": null,
   "metadata": {},
   "outputs": [],
   "source": []
  }
 ],
 "metadata": {
  "kernelspec": {
   "display_name": "Python 3",
   "language": "python",
   "name": "python3"
  },
  "language_info": {
   "codemirror_mode": {
    "name": "ipython",
    "version": 3
   },
   "file_extension": ".py",
   "mimetype": "text/x-python",
   "name": "python",
   "nbconvert_exporter": "python",
   "pygments_lexer": "ipython3",
   "version": "3.7.1"
  }
 },
 "nbformat": 4,
 "nbformat_minor": 2
}
