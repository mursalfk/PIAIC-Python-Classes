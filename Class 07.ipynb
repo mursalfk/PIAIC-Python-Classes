{
 "cells": [
  {
   "cell_type": "markdown",
   "metadata": {},
   "source": [
    "## Functions\n",
    "* Recursive Function\n",
    "* Lambda Fundtion"
   ]
  },
  {
   "cell_type": "markdown",
   "metadata": {},
   "source": [
    "### Recursive Function"
   ]
  },
  {
   "cell_type": "code",
   "execution_count": 18,
   "metadata": {},
   "outputs": [
    {
     "name": "stdout",
     "output_type": "stream",
     "text": [
      "Enter a Number: 8\n",
      "Now n = 8\n",
      "Now n = 7\n",
      "Now n = 6\n",
      "Now n = 5\n",
      "Now n = 4\n",
      "Now n = 3\n",
      "Now n = 2\n",
      "Now n = 1\n",
      "Factorial is  40320\n"
     ]
    }
   ],
   "source": [
    "def fact(n):\n",
    "    if n==0:\n",
    "        return 1\n",
    "    else:\n",
    "        print(\"Now n = \"+ str(n))\n",
    "        return n*fact(n-1)\n",
    "number = int(input(\"Enter a Number: \"))\n",
    "print(\"Factorial is \", fact(number))"
   ]
  },
  {
   "cell_type": "markdown",
   "metadata": {},
   "source": [
    "#### Uses of Recursive Function\n",
    "* Instead of Loops\n",
    "* For example for Factorization"
   ]
  },
  {
   "cell_type": "markdown",
   "metadata": {},
   "source": [
    "## Lambda Functions"
   ]
  },
  {
   "cell_type": "code",
   "execution_count": 21,
   "metadata": {},
   "outputs": [
    {
     "name": "stdout",
     "output_type": "stream",
     "text": [
      "Number: 5\n",
      "25\n"
     ]
    }
   ],
   "source": [
    "x=int(input(\"Number: \"))\n",
    "def pwr(x):\n",
    "    return x*x\n",
    "print(pwr(x))"
   ]
  },
  {
   "cell_type": "code",
   "execution_count": 24,
   "metadata": {},
   "outputs": [
    {
     "name": "stdout",
     "output_type": "stream",
     "text": [
      "Number: 5\n",
      "25\n"
     ]
    }
   ],
   "source": [
    "ip=int(input(\"Number: \"))\n",
    "p= lambda x:x*x\n",
    "print(p(ip))"
   ]
  },
  {
   "cell_type": "markdown",
   "metadata": {},
   "source": [
    "### Lambda Functions\n",
    "* Annonymous Functions\n",
    "* When we have to use a function only once"
   ]
  },
  {
   "cell_type": "markdown",
   "metadata": {},
   "source": [
    "# |BASIC PYTHON COMPLETED|"
   ]
  }
 ],
 "metadata": {
  "kernelspec": {
   "display_name": "Python 3",
   "language": "python",
   "name": "python3"
  },
  "language_info": {
   "codemirror_mode": {
    "name": "ipython",
    "version": 3
   },
   "file_extension": ".py",
   "mimetype": "text/x-python",
   "name": "python",
   "nbconvert_exporter": "python",
   "pygments_lexer": "ipython3",
   "version": "3.7.1"
  }
 },
 "nbformat": 4,
 "nbformat_minor": 2
}
